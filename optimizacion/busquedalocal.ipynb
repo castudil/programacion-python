{
  "nbformat": 4,
  "nbformat_minor": 0,
  "metadata": {
    "colab": {
      "name": "busquedalocal.ipynb",
      "provenance": [],
      "authorship_tag": "ABX9TyNTxKsoQmGXI7B2zb4DKimV",
      "include_colab_link": true
    },
    "kernelspec": {
      "name": "python3",
      "display_name": "Python 3"
    },
    "language_info": {
      "name": "python"
    }
  },
  "cells": [
    {
      "cell_type": "markdown",
      "metadata": {
        "id": "view-in-github",
        "colab_type": "text"
      },
      "source": [
        "<a href=\"https://colab.research.google.com/github/castudil/programacion-python/blob/main/optimizacion/busquedalocal.ipynb\" target=\"_parent\"><img src=\"https://colab.research.google.com/assets/colab-badge.svg\" alt=\"Open In Colab\"/></a>"
      ]
    },
    {
      "cell_type": "markdown",
      "source": [
        "#Implemenatacion de Búsqueda local en python\n",
        "\n",
        "* pseudo codigo\n",
        "* inventar una funcion de costo mas o menos intersante\n",
        "https://www.wolframalpha.com/input?i=plot+-x%5E3+%2B+6x%5E2+%2B12%2C+x+from+0+to+6\n",
        "* implementar en python BL\n",
        "* validar BL con la funcion de ejemplo"
      ],
      "metadata": {
        "id": "H4mRf_YREVxG"
      }
    },
    {
      "cell_type": "markdown",
      "source": [
        "#BL\n",
        "1. x<-solucion_incial()\n",
        "2. cx <- costo(x)\n",
        "3. hacer {\n",
        "3.1.    y <- vecino(x)\n",
        "3.2.    cy <- costo(y) \n",
        "3.3.    if(cy > cx)\n",
        "3.4.1.    x<-y\n",
        "3.5.2.    cx<-cy\n",
        "3.6 t<-t+1\n",
        "3.7 } mientras (t<tmax)\n",
        "4. print(x,cx)"
      ],
      "metadata": {
        "id": "AOk6yWfqEplc"
      }
    },
    {
      "cell_type": "markdown",
      "source": [
        "definimos una función que genera una solución inicial entre el rango 0 a 6,\n",
        "porque ese es precisamente el problema que nos hemos planteado \n",
        "en el link a Wolfram alpha"
      ],
      "metadata": {
        "id": "uKXf8NxI8al4"
      }
    },
    {
      "cell_type": "code",
      "execution_count": 1,
      "metadata": {
        "id": "t4D0JOMWEUxQ"
      },
      "outputs": [],
      "source": [
        "import random\n",
        "\n",
        "## \n",
        "\n",
        "def solucion_inicial():\n",
        "  return random.uniform(0, 6)"
      ]
    },
    {
      "cell_type": "code",
      "source": [
        "solucion_inicial()"
      ],
      "metadata": {
        "colab": {
          "base_uri": "https://localhost:8080/"
        },
        "id": "tKULtsmMGKZl",
        "outputId": "ae2cb971-2940-4115-92bc-10482112f8c4"
      },
      "execution_count": 7,
      "outputs": [
        {
          "output_type": "execute_result",
          "data": {
            "text/plain": [
              "0.7481118364952368"
            ]
          },
          "metadata": {},
          "execution_count": 7
        }
      ]
    },
    {
      "cell_type": "markdown",
      "source": [
        "Simplemente llamamos a la función para generar un número X que está entre los rangos establecidos"
      ],
      "metadata": {
        "id": "ydFzbAzA8Waw"
      }
    },
    {
      "cell_type": "markdown",
      "source": [
        "Esta nueva función se encarga de generar un vecino para ello tomamos como base la solución inicial y la modificamos muy ligeramente a través de la generación de un número al azar.\n",
        "\n",
        "Tenemos que asegurarnos de qué el vecino se mantenga dentro del rango establecido, en este caso 0 y 6.\n",
        "\n",
        "El número al azar se multiplica por dos y se le resta uno para que los valores sean tanto positivos como negativos, así podemos avanzar o retroceder con respecto al valor actual de X.\n",
        "\n",
        "Épsilon es un parámetro que controla el tamaño del salto. Valores bajos de épsilon significa que la solución X variará muy poco, en cambio valores altos de épsilon involucran cambios mucho mayores a la solución actual."
      ],
      "metadata": {
        "id": "l7scZ3MB8eTX"
      }
    },
    {
      "cell_type": "code",
      "source": [
        "epsilon=0.01\n",
        "def vecino(x):\n",
        "  y=-1\n",
        "  while(y<0 or y>6): ###barreras intencionales\n",
        "    y=x+(random.randint(0,1)*2-1)*epsilon\n",
        "  return y"
      ],
      "metadata": {
        "id": "9sW0Wgg5ICf6"
      },
      "execution_count": 3,
      "outputs": []
    },
    {
      "cell_type": "code",
      "source": [
        "vecino(3)"
      ],
      "metadata": {
        "colab": {
          "base_uri": "https://localhost:8080/"
        },
        "id": "cIBZ6w1XIxqk",
        "outputId": "d5f6ed33-24c2-440a-eb0a-bcc9868279bb"
      },
      "execution_count": 15,
      "outputs": [
        {
          "output_type": "execute_result",
          "data": {
            "text/plain": [
              "3.01"
            ]
          },
          "metadata": {},
          "execution_count": 15
        }
      ]
    },
    {
      "cell_type": "markdown",
      "source": [
        "Nuevo hay que definir una función de costo, que involucra la evaluación de nuestro valor actual de X. En este caso la evaluación significa la función Polinomial."
      ],
      "metadata": {
        "id": "3YDMec929ekE"
      }
    },
    {
      "cell_type": "code",
      "source": [
        "def costo(x):\n",
        "  return -x**3 + 6*x**2 +12"
      ],
      "metadata": {
        "id": "VzOFG5J_JBG0"
      },
      "execution_count": 17,
      "outputs": []
    },
    {
      "cell_type": "code",
      "source": [
        "costo(1)"
      ],
      "metadata": {
        "colab": {
          "base_uri": "https://localhost:8080/"
        },
        "id": "-Kw8bJF3JJoX",
        "outputId": "113103f6-6184-4a4f-da3b-c07ef9e3b412"
      },
      "execution_count": 19,
      "outputs": [
        {
          "output_type": "execute_result",
          "data": {
            "text/plain": [
              "17"
            ]
          },
          "metadata": {},
          "execution_count": 19
        }
      ]
    },
    {
      "cell_type": "markdown",
      "source": [
        "Luego viene la implementación principal de la búsqueda local que une todos los elementos de más arriba y corresponde a una implementación del pseudo código de búsqueda local especificada al principio\n",
        "\n",
        "En un comienzo en la línea uno se genera una solución inicial al azar dentro del rango 06, detalles que están especificados al interior de la función `solución_inicial()`\n",
        "\n",
        "Luego se inicializa la variable $t$ que controla el número de interacciones y se define una variable llamada $T_{max}$ que indica el número máximo de interacciones que se van a realizar.\n",
        "\n",
        "En el bucle principal, se repite una serie de veces hasta alcanzar el número máximo de interacciones. En particular, en esta versión de la búsqueda local no estamos considerando el caso de qué las soluciones no varían en el tiempo, que podría ser un criterio de término más sofisticado.\n",
        "\n",
        "Al interior de la iteración principal, se genera un vecino y se almacena en la variable `cy`. Luego se valúa el costo de esa solución y se almacena en la variable se `cy`.\n",
        "\n",
        "Luego se pregunta si la nuevo costo es mayor que la anterior, y de ser cierto entonces se reemplaza la solución por la nueva recientemente generada.\n",
        "\n",
        "Finalmente el algoritmo imprime la mejor solución encontrada y el costo asociado.\n",
        "\n",
        "Si nosotros desconectamos la línea 12, entonces veremos paso a paso cómo mejora la solución. "
      ],
      "metadata": {
        "id": "spq_IDIo9voF"
      }
    },
    {
      "cell_type": "code",
      "source": [
        "x=solucion_inicial()\n",
        "cx=costo(x)\n",
        "#print(x,cx)\n",
        "t=0;\n",
        "tmax=1000\n",
        "while t<tmax:\n",
        "  y=vecino(x)### podemos transgedir nuestros bordes\n",
        "  cy=costo(y)\n",
        "  if(cy>cx):\n",
        "    x=y\n",
        "    cx=cy\n",
        "    print(x,cx)\n",
        "  t=t+1\n",
        "print(x,cx)"
      ],
      "metadata": {
        "colab": {
          "base_uri": "https://localhost:8080/"
        },
        "id": "CsgIZ3_QJa34",
        "outputId": "94f05bf2-0c2f-4839-b2f8-13e0700e66af"
      },
      "execution_count": 21,
      "outputs": [
        {
          "output_type": "stream",
          "name": "stdout",
          "text": [
            "2.741754474694016 36.49294060633745\n",
            "2.7517544746940157 36.59621108897318\n",
            "2.7617544746940155 36.69903051892409\n",
            "2.7717544746940153 36.801392896190194\n",
            "2.781754474694015 36.903292220771476\n",
            "2.791754474694015 37.00472249266794\n",
            "2.8017544746940146 37.105677711879586\n",
            "2.8117544746940144 37.20615187840642\n",
            "2.821754474694014 37.30613899224845\n",
            "2.831754474694014 37.405633053405644\n",
            "2.8417544746940138 37.50462806187802\n",
            "2.8517544746940136 37.603118017665594\n",
            "2.8617544746940133 37.70109692076835\n",
            "2.871754474694013 37.79855877118628\n",
            "2.881754474694013 37.895497568919396\n",
            "2.8917544746940127 37.99190731396771\n",
            "2.9017544746940125 38.08778200633118\n",
            "2.9117544746940123 38.18311564600985\n",
            "2.921754474694012 38.277902233003715\n",
            "2.931754474694012 38.37213576731275\n",
            "2.9417544746940116 38.465810248936975\n",
            "2.9517544746940114 38.558919677876375\n",
            "2.961754474694011 38.651458054130956\n",
            "2.971754474694011 38.74341937770073\n",
            "2.981754474694011 38.834797648585685\n",
            "2.9917544746940106 38.92558686678583\n",
            "3.0017544746940104 39.01578103230115\n",
            "3.01175447469401 39.10537414513165\n",
            "3.02175447469401 39.194360205277334\n",
            "3.0317544746940097 39.28273321273821\n",
            "3.0417544746940095 39.37048716751428\n",
            "3.0517544746940093 39.45761606960551\n",
            "3.061754474694009 39.544113919011934\n",
            "3.071754474694009 39.62997471573354\n",
            "3.0817544746940086 39.715192459770336\n",
            "3.0917544746940084 39.799761151122304\n",
            "3.1017544746940082 39.88367478978947\n",
            "3.111754474694008 39.9669273757718\n",
            "3.121754474694008 40.049512909069335\n",
            "3.1317544746940076 40.131425389682036\n",
            "3.1417544746940074 40.212658817609935\n",
            "3.151754474694007 40.29320719285302\n",
            "3.161754474694007 40.37306451541127\n",
            "3.1717544746940067 40.45222478528471\n",
            "3.1817544746940065 40.53068200247335\n",
            "3.1917544746940063 40.60843016697715\n",
            "3.201754474694006 40.68546327879615\n",
            "3.211754474694006 40.761775337930324\n",
            "3.2217544746940057 40.83736034437968\n",
            "3.2317544746940055 40.91221229814423\n",
            "3.2417544746940052 40.98632519922396\n",
            "3.251754474694005 41.05969304761887\n",
            "3.261754474694005 41.13230984332897\n",
            "3.2717544746940046 41.20416958635425\n",
            "3.2817544746940044 41.27526627669471\n",
            "3.291754474694004 41.34559391435036\n",
            "3.301754474694004 41.415146499321196\n",
            "3.3117544746940037 41.48391803160721\n",
            "3.3217544746940035 41.551902511208404\n",
            "3.3317544746940033 41.61909393812479\n",
            "3.341754474694003 41.68548631235635\n",
            "3.351754474694003 41.751073633903104\n",
            "3.3617544746940027 41.81584990276504\n",
            "3.3717544746940025 41.879809118942156\n",
            "3.3817544746940023 41.94294528243445\n",
            "3.391754474694002 42.00525239324194\n",
            "3.401754474694002 42.06672445136461\n",
            "3.4117544746940016 42.12735545680246\n",
            "3.4217544746940014 42.18713940955549\n",
            "3.431754474694001 42.24607030962371\n",
            "3.441754474694001 42.30414215700712\n",
            "3.4517544746940008 42.36134895170569\n",
            "3.4617544746940005 42.417684693719465\n",
            "3.4717544746940003 42.473143383048416\n",
            "3.481754474694 42.52771901969255\n",
            "3.491754474694 42.58140560365187\n",
            "3.5017544746939997 42.63419713492637\n",
            "3.5117544746939995 42.68608761351606\n",
            "3.5217544746939993 42.73707103942093\n",
            "3.531754474693999 42.787141412640985\n",
            "3.541754474693999 42.83629273317623\n",
            "3.5517544746939986 42.88451900102664\n",
            "3.5617544746939984 42.93181421619225\n",
            "3.571754474693998 42.97817237867305\n",
            "3.581754474693998 43.02358748846902\n",
            "3.591754474693998 43.068053545580156\n",
            "3.6017544746939976 43.111564550006506\n",
            "3.6117544746939974 43.15411450174803\n",
            "3.621754474693997 43.19569740080474\n",
            "3.631754474693997 43.236307247176626\n",
            "3.6417544746939967 43.275938040863714\n",
            "3.6517544746939965 43.31458378186596\n",
            "3.6617544746939963 43.35223847018341\n",
            "3.671754474693996 43.38889610581604\n",
            "3.681754474693996 43.42455068876383\n",
            "3.6917544746939956 43.45919621902683\n",
            "3.7017544746939954 43.492826696605015\n",
            "3.711754474693995 43.525436121498366\n",
            "3.721754474693995 43.557018493706906\n",
            "3.731754474693995 43.587567813230635\n",
            "3.7417544746939946 43.617078080069554\n",
            "3.7517544746939944 43.64554329422364\n",
            "3.761754474693994 43.67295745569291\n",
            "3.771754474693994 43.699314564477376\n",
            "3.7817544746939937 43.72460862057704\n",
            "3.7917544746939935 43.748833623991864\n",
            "3.8017544746939933 43.771983574721865\n",
            "3.811754474693993 43.79405247276707\n",
            "3.821754474693993 43.81503431812745\n",
            "3.8317544746939927 43.83492311080302\n",
            "3.8417544746939924 43.85371285079376\n",
            "3.8517544746939922 43.8713975380997\n",
            "3.861754474693992 43.8879711727208\n",
            "3.871754474693992 43.90342775465711\n",
            "3.8817544746939916 43.91776128390859\n",
            "3.8917544746939914 43.93096576047525\n",
            "3.901754474693991 43.943035184357115\n",
            "3.911754474693991 43.95396355555414\n",
            "3.9217544746939907 43.96374487406636\n",
            "3.9317544746939905 43.972373139893755\n",
            "3.9417544746939903 43.979842353036325\n",
            "3.95175447469399 43.986146513494106\n",
            "3.96175447469399 43.99127962126705\n",
            "3.9717544746939897 43.9952356763552\n",
            "3.9817544746939895 43.9980086787585\n",
            "3.9917544746939893 43.999592628477004\n",
            "4.001754474693989 43.99998152551069\n",
            "4.001754474693989 43.99998152551069\n"
          ]
        }
      ]
    },
    {
      "cell_type": "markdown",
      "source": [
        "OBSERVACION: al analizar expert experimentalmente el código de búsqueda local podemos observar que la solución converge hacia el costo 44 cuando X es igual a cuatro. Para validar esta solución podemos ir a Wolfram y analizar la gráfica de la curva establecida.\n",
        "\n",
        "\n",
        "COnclusiones\n",
        "\n",
        "Lo que acabamos de estudiar es el mecanismo computacional más simple para poder aproximar funciones y obtener sus valores óptimos. Con una modificación muy menor se puede transformar este problema para encontrar mínimos, por ejemplo el caso de errores.\n",
        "\n",
        "Esencialmente técnicas más complejas como algoritmos genéticos se basan en este mismo principio, sólo que agregan otros elementos teóricos para poder generar búsquedas en espacios más complejos.\n",
        "\n",
        "En principio vamos a tratar de utilizar el método más simple siempre que se nos permita y métodos más complejos cuando el problema lo requiera. Esta filosofía se conoce con el nombre de la Navaja de Occam, que dice que si un problema se puede resolver de dos maneras distintas y arrojan resultados de igual calidad, vamos a escoger la que lo resuelve más simple.\n",
        "\n",
        "Volvemos a la analogía de los algoritmos genéticos, que aún no hemos estudiado pero créame, son más complejos. Si tenemos un problema simple que podemos resolver de buena manera usando búsqueda local y también podemos resolverlo con una técnica compleja como algoritmos genéticos y obtenemos la misma calidad de solución, entonces preferimos búsqueda local por ser más simple y apelaremos a la navaja de Ocamp para dejarle en claro al lector porque estamos tomando esa decisión."
      ],
      "metadata": {
        "id": "8xz9w6Xa_PEn"
      }
    }
  ]
}
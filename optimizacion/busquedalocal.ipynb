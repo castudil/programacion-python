{
  "nbformat": 4,
  "nbformat_minor": 0,
  "metadata": {
    "colab": {
      "name": "busquedalocal.ipynb",
      "provenance": [],
      "authorship_tag": "ABX9TyNhpxhd2X3qp1uAq4t+M4oi",
      "include_colab_link": true
    },
    "kernelspec": {
      "name": "python3",
      "display_name": "Python 3"
    },
    "language_info": {
      "name": "python"
    }
  },
  "cells": [
    {
      "cell_type": "markdown",
      "metadata": {
        "id": "view-in-github",
        "colab_type": "text"
      },
      "source": [
        "<a href=\"https://colab.research.google.com/github/castudil/programacion-python/blob/main/optimizacion/busquedalocal.ipynb\" target=\"_parent\"><img src=\"https://colab.research.google.com/assets/colab-badge.svg\" alt=\"Open In Colab\"/></a>"
      ]
    },
    {
      "cell_type": "markdown",
      "source": [
        "#Implemenatacion de Búsqueda local en python\n",
        "\n",
        "* pseudo codigo\n",
        "* inventar una funcion de costo mas o menos intersante\n",
        "https://www.wolframalpha.com/input?i=plot+-x%5E3+%2B+6x%5E2+%2B12%2C+x+from+0+to+6\n",
        "* implemntar en python BL\n",
        "* validar Bl con la funcion de ejemplo"
      ],
      "metadata": {
        "id": "H4mRf_YREVxG"
      }
    },
    {
      "cell_type": "markdown",
      "source": [
        "#BL\n",
        "1. x<-solucion_incial()\n",
        "2. cx <- costo(x)\n",
        "3. hacer {\n",
        "3.1.    y <- vecino(x)\n",
        "3.2.    cy <- costo(y) \n",
        "3.3.    if(cy > cx)\n",
        "3.4.1.    x<-y\n",
        "3.5.2.    cx<-cy\n",
        "3.6 t<-t+1\n",
        "3.7 } mientras (t<tmax)\n",
        "4. print(x,cx)"
      ],
      "metadata": {
        "id": "AOk6yWfqEplc"
      }
    },
    {
      "cell_type": "code",
      "execution_count": 2,
      "metadata": {
        "id": "t4D0JOMWEUxQ"
      },
      "outputs": [],
      "source": [
        "import random\n",
        "def solucion_inicial():\n",
        "  return random.uniform(0, 6)"
      ]
    },
    {
      "cell_type": "code",
      "source": [
        "solucion_inicial()"
      ],
      "metadata": {
        "colab": {
          "base_uri": "https://localhost:8080/"
        },
        "id": "tKULtsmMGKZl",
        "outputId": "27d50161-3ece-4c22-c483-3a76e3f4f61c"
      },
      "execution_count": 3,
      "outputs": [
        {
          "output_type": "execute_result",
          "data": {
            "text/plain": [
              "3.0150800745725945"
            ]
          },
          "metadata": {},
          "execution_count": 3
        }
      ]
    },
    {
      "cell_type": "code",
      "source": [
        "epsilon=0.01\n",
        "def vecino(x):\n",
        "  y=-1\n",
        "  while(y<0 or y>6): ###barreras intencionales\n",
        "    y=x+(random.randint(0,1)*2-1)*epsilon\n",
        "  return y"
      ],
      "metadata": {
        "id": "9sW0Wgg5ICf6"
      },
      "execution_count": 4,
      "outputs": []
    },
    {
      "cell_type": "code",
      "source": [
        "vecino(6)"
      ],
      "metadata": {
        "colab": {
          "base_uri": "https://localhost:8080/"
        },
        "id": "cIBZ6w1XIxqk",
        "outputId": "e278d79b-7e51-4492-bd4e-213294a143c9"
      },
      "execution_count": 108,
      "outputs": [
        {
          "output_type": "execute_result",
          "data": {
            "text/plain": [
              "5.99"
            ]
          },
          "metadata": {},
          "execution_count": 108
        }
      ]
    },
    {
      "cell_type": "code",
      "source": [
        "def costo(x):\n",
        "  return -x**3 + 6*x**2 +12"
      ],
      "metadata": {
        "id": "VzOFG5J_JBG0"
      },
      "execution_count": 5,
      "outputs": []
    },
    {
      "cell_type": "code",
      "source": [
        "costo(0)"
      ],
      "metadata": {
        "colab": {
          "base_uri": "https://localhost:8080/"
        },
        "id": "-Kw8bJF3JJoX",
        "outputId": "0d4d1f3c-c663-4214-d9d9-5e8c8036fc32"
      },
      "execution_count": 71,
      "outputs": [
        {
          "output_type": "execute_result",
          "data": {
            "text/plain": [
              "12"
            ]
          },
          "metadata": {},
          "execution_count": 71
        }
      ]
    },
    {
      "cell_type": "code",
      "source": [
        "x=solucion_inicial()\n",
        "cx=costo(x)\n",
        "#print(x,cx)\n",
        "t=0;\n",
        "tmax=1000\n",
        "while t<tmax:\n",
        "  y=vecino(x)### podemos transgedir nuestros bordes\n",
        "  cy=costo(y)\n",
        "  if(cy>cx):\n",
        "    x=y\n",
        "    cx=cy\n",
        "    #print(x,cx)\n",
        "  t=t+1\n",
        "print(x,cx)"
      ],
      "metadata": {
        "colab": {
          "base_uri": "https://localhost:8080/"
        },
        "id": "CsgIZ3_QJa34",
        "outputId": "5d832f7a-a136-4ee9-b33f-b9d5b43c26e0"
      },
      "execution_count": 6,
      "outputs": [
        {
          "output_type": "stream",
          "name": "stdout",
          "text": [
            "3.9970389384349283 43.9999474186487\n"
          ]
        }
      ]
    }
  ]
}
{
  "nbformat": 4,
  "nbformat_minor": 0,
  "metadata": {
    "colab": {
      "name": "tarifa.ipynb",
      "provenance": [],
      "collapsed_sections": [],
      "authorship_tag": "ABX9TyMmAzNDJSyojEX1aw6sYCe0",
      "include_colab_link": true
    },
    "kernelspec": {
      "name": "python3",
      "display_name": "Python 3"
    },
    "language_info": {
      "name": "python"
    }
  },
  "cells": [
    {
      "cell_type": "markdown",
      "metadata": {
        "id": "view-in-github",
        "colab_type": "text"
      },
      "source": [
        "<a href=\"https://colab.research.google.com/github/castudil/programacion-python/blob/main/tarifa.ipynb\" target=\"_parent\"><img src=\"https://colab.research.google.com/assets/colab-badge.svg\" alt=\"Open In Colab\"/></a>"
      ]
    },
    {
      "cell_type": "markdown",
      "source": [
        "Ejemplo Diapositivas clase 02\n",
        "\n",
        "\n",
        "#Diseño Algoritmico\n",
        "\n",
        "1.   leer ambas variables\n",
        "2.   cambiar los tipos\n",
        "3.   realizar la multiplicacion\n",
        "4.   almacenar en una variable\n",
        "\n",
        "\n",
        "\n",
        "\n",
        "\n",
        "#Prueba\n",
        "\n",
        "#entrada\n",
        "\n",
        "* 35\n",
        "* 2.75\n",
        "\n",
        "#Salida\n",
        "* 96.25\n",
        "\n"
      ],
      "metadata": {
        "id": "EfRb8wRMcDOG"
      }
    },
    {
      "cell_type": "code",
      "execution_count": null,
      "metadata": {
        "colab": {
          "base_uri": "https://localhost:8080/"
        },
        "id": "JkZrSmECb-jE",
        "outputId": "756c0186-4262-44e5-b626-0ea0db9579e6"
      },
      "outputs": [
        {
          "name": "stdout",
          "output_type": "stream",
          "text": [
            "numero de horas trabajadas:35\n",
            "tarifa:2.75\n"
          ]
        }
      ],
      "source": [
        "horas = input('numero de horas trabajadas:');\n",
        "tarifa = input('tarifa:');"
      ]
    },
    {
      "cell_type": "code",
      "source": [
        "#cambiar tipos de datos\n",
        "h=float(horas)\n",
        "t=float(tarifa)"
      ],
      "metadata": {
        "id": "DIkZpUjLc_X-"
      },
      "execution_count": null,
      "outputs": []
    },
    {
      "cell_type": "code",
      "source": [
        "salario=h*t"
      ],
      "metadata": {
        "id": "KkQ4v16PcT-R"
      },
      "execution_count": null,
      "outputs": []
    },
    {
      "cell_type": "code",
      "source": [
        "print('el salario es ',salario)"
      ],
      "metadata": {
        "colab": {
          "base_uri": "https://localhost:8080/"
        },
        "id": "9FlZWNKpcVgJ",
        "outputId": "cbc035e0-e974-4e5d-a88c-42bf8420483f"
      },
      "execution_count": null,
      "outputs": [
        {
          "output_type": "stream",
          "name": "stdout",
          "text": [
            "el salario es  96.25\n"
          ]
        }
      ]
    }
  ]
}
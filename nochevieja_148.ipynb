{
  "nbformat": 4,
  "nbformat_minor": 0,
  "metadata": {
    "colab": {
      "name": "nochevieja-148.ipynb",
      "provenance": [],
      "collapsed_sections": [],
      "include_colab_link": true
    },
    "kernelspec": {
      "name": "python3",
      "display_name": "Python 3"
    },
    "language_info": {
      "name": "python"
    }
  },
  "cells": [
    {
      "cell_type": "markdown",
      "metadata": {
        "id": "view-in-github",
        "colab_type": "text"
      },
      "source": [
        "<a href=\"https://colab.research.google.com/github/castudil/programacion-python/blob/main/nochevieja_148.ipynb\" target=\"_parent\"><img src=\"https://colab.research.google.com/assets/colab-badge.svg\" alt=\"Open In Colab\"/></a>"
      ]
    },
    {
      "cell_type": "markdown",
      "source": [
        "[Problema 148](https://www.aceptaelreto.com/problem/statement.php?id=148) Noche Vieja\n",
        "\n",
        "23:45\n",
        "21:30\n",
        "00:01\n",
        "00:00"
      ],
      "metadata": {
        "id": "8fIkX3H8g2Sx"
      }
    },
    {
      "cell_type": "code",
      "execution_count": 13,
      "metadata": {
        "id": "trYC44EEgwz6",
        "colab": {
          "base_uri": "https://localhost:8080/"
        },
        "outputId": "3a551ed3-3a59-422c-ff97-e68b0c7a7017"
      },
      "outputs": [
        {
          "name": "stdout",
          "output_type": "stream",
          "text": [
            "Ingresa las horas\n",
            "23:45 21:30 00:01 00:00 10:00\n"
          ]
        }
      ],
      "source": [
        "print(\"Ingresa las horas\");\n",
        "datos = input();"
      ]
    },
    {
      "cell_type": "code",
      "source": [
        "type(datos) "
      ],
      "metadata": {
        "colab": {
          "base_uri": "https://localhost:8080/"
        },
        "id": "qjiOw96qiZZ_",
        "outputId": "5f652acf-f172-4a71-c806-8138833a2580"
      },
      "execution_count": 14,
      "outputs": [
        {
          "output_type": "execute_result",
          "data": {
            "text/plain": [
              "str"
            ]
          },
          "metadata": {},
          "execution_count": 14
        }
      ]
    },
    {
      "cell_type": "code",
      "source": [
        "datos.split() ## toma el String y los divide en elementos separados por espacio"
      ],
      "metadata": {
        "colab": {
          "base_uri": "https://localhost:8080/"
        },
        "id": "Jz1zIjwOjDQE",
        "outputId": "bb3d439d-6a29-4019-9056-f8ac814fe2a9"
      },
      "execution_count": 15,
      "outputs": [
        {
          "output_type": "execute_result",
          "data": {
            "text/plain": [
              "['23:45', '21:30', '00:01', '00:00', '10:00']"
            ]
          },
          "metadata": {},
          "execution_count": 15
        }
      ]
    },
    {
      "cell_type": "code",
      "source": [
        "for i in datos.split():\n",
        "    if i == '00:00': # es un caso excepcional que marca el final de la ejecución\n",
        "       break # lo que hace exactamente el comando Break es salir del ciclo más cercano, en este caso el For de la línea uno\n",
        "    horas = i.split(sep=':'); # esta línea se encarga de separar las horas de los minutos ya que está identificando el separador de dos puntos\n",
        "    minutos = (((23-int(horas[0]))*60)+(60-int(horas[1])));  #esta expresión determina cuántos minutos son los que hanesta expresión determina cuántos minutos son los que faltan para medianoche\n",
        "    print(minutos);\n"
      ],
      "metadata": {
        "id": "kFalqMZdhWCf",
        "colab": {
          "base_uri": "https://localhost:8080/"
        },
        "outputId": "4f32581d-ddee-4708-83c2-137a14618e9e"
      },
      "execution_count": 16,
      "outputs": [
        {
          "output_type": "stream",
          "name": "stdout",
          "text": [
            "15\n",
            "150\n",
            "1439\n"
          ]
        }
      ]
    },
    {
      "cell_type": "markdown",
      "source": [
        ""
      ],
      "metadata": {
        "id": "zYpEHUVig1GY"
      }
    }
  ]
}
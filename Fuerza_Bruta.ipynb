{
  "nbformat": 4,
  "nbformat_minor": 0,
  "metadata": {
    "colab": {
      "name": "Fuerza Bruta.ipynb",
      "provenance": [],
      "authorship_tag": "ABX9TyMlqqmHxWpW/qDXpPkxREjv",
      "include_colab_link": true
    },
    "kernelspec": {
      "name": "python3",
      "display_name": "Python 3"
    },
    "language_info": {
      "name": "python"
    }
  },
  "cells": [
    {
      "cell_type": "markdown",
      "metadata": {
        "id": "view-in-github",
        "colab_type": "text"
      },
      "source": [
        "<a href=\"https://colab.research.google.com/github/castudil/programacion-python/blob/main/Fuerza_Bruta.ipynb\" target=\"_parent\"><img src=\"https://colab.research.google.com/assets/colab-badge.svg\" alt=\"Open In Colab\"/></a>"
      ]
    },
    {
      "cell_type": "markdown",
      "source": [
        "#FUERZA BRUTA\n",
        "\n",
        "La optimización combinatoria tiene que ver con encontrar valores óptimos en un conjunto finito de soluciones posibles.\n",
        "\n",
        "En algunos casos muy particulares, es posible analizar todas las combinaciones y quedarse con la mejor.\n",
        "\n",
        "La dificultad con aplicar esta técnica es que normalmente es intensiva en términos computacionales. En palabras simples a veces los problemas más complejos van a tardar demasiado tiempo en ser analistaLa dificultad con aplicar esta técnica es que normalmente es intensiva en términos computacionales. En palabras simples a veces los problemas más complejos van a tardar demasiado tiempo en ser analizados. El mecanismo de fuerza bruta intenta analizar todos los casos posibles Y es una opción que vale la pena estudiar, porque en algunos casos se puede aplicar en la práctica.\n",
        "\n",
        "La técnica de fuerza bruta analiza todas las combinaciones posibles para un problema y se queda con la mejor opción. En este caso la garantía es que la mejor opción va ser la mejor de todas y por lo tanto va a ser el óptimo global.\n",
        "\n",
        "Cuándo ocurren combinaciones de cosas? En otras palabras cuando estamos en presencia de un problema de optimización combinatoriaCuándo ocurren combinaciones de cosas? \n",
        "\n",
        "Un caso que ocurre bastante en el campo de la mecánica tiene que ver precisamente con la optimización de parámetros de un modelo de simulación.\n",
        "\n",
        "Muchas veces los parámetros se mueven en términos teóricos dentro de un rango continuo, lo que hace la posibilidad infinita. Sin embargo para tratar con esta complejidad infinita, es común que se reducen estos casos a sólo unas cuantas muestras, lo que se traduce en un conjunto finito de valores por cada parámetro.\n",
        "\n",
        "Ejemplo:\n",
        "\n",
        "Parametro p={1,2,3}\n",
        "\n",
        "Parametro q={0.5,1.0}\n",
        "\n",
        "Podemos asumir que estos parámetros alimentan un modelo de simulación y imaginario.\n",
        "\n",
        "Esto quiere decir que por ejemplo con P = 1.0 y Q = 0.5 generamos una combinación particular para esa simulación.\n",
        "\n",
        "¿cuantas combinaciones posibles tenemos para los valores de los parámetros en estas circunstancias?\n",
        "\n",
        "Una forma de responder esta pregunta es de manera intuitiva, tomando en cuenta que Pepe puede adquirir tres valores y q dos, entonces las combinaciones posibles serán la multiplicación de las cardinalidades (numero de valores posibles o más técnicamente hablando el número de elementos del conjunto), en este caso 3 × 2 es igual a seis combinaciones posibles.\n",
        "\n",
        "En este caso solamente habrían seis combinaciones que tendríamos que evaluar con nuestro simulador y entonces escogeríamos aquella simulación que da mejores resultados de esas seis. Este problema parece enfermo pero la simulación podría tomar horas, o días. Entonces, si aumentamos la cantidad de posibilidad el problema se vuelve complejo porque requerimos mucho tiempo para esperar la solución a cada iteración.\n",
        "\n",
        "Éste problema se entiende como un problema de optimización combinatoria al porque estamos interesados en las combinaciones de los valores de cada parámetro del sistema. Y es un problema de optimización porque estamos interesados en encontrar el mejor resultado posible de esas combinaciones. Muchas veces, en términos de ingeniería, estamos dispuestos a sacrificar el hecho de encontrar la mejor de todas, con tal de encontrar una buena solución que resuelva el problema de manera eficiente. Cuándo esto es el caso, los mecanismos computacionales nos pueden ayudar muchísimo para encontrar resultados aproximados de buena calidad.\n",
        "\n",
        "Es una alternativa razonable cuando lo que se busca es obtener la mejor opción de todas O nos podemos relajar y obtener una solución de buena calidad. Por supuesto, el concepto buena calidad es subjetivo y tenemos que definirlo. Lo que es bueno en una aplicación en particular podría no ser suficiente en otra aplicación. \n",
        "\n",
        "Desafortunadamente el costo computacional de este método se vuelve intratable para problemas relativamente pequeños.\n",
        "\n",
        "Existe una rama de las matemáticas llamada combinatoria, que se dedica al estudio de grupos de datos finitos y cómo combinarlos, de acuerdo a una serie de restricciones preestablecidas.\n",
        "\n",
        "Para saber qué caso de combinatoria estamos tratando hay que determinar tres características:\n",
        "\n",
        "1. Si influye o no el orden de los elementos.\n",
        "\n",
        " En algunos casos el orden en el que aparecen los elementos es irrelevante, por ejemplo el orden en que aparecieron los números de la lotería. En este caso no importa cuál fue el orden en que aparecen los números si no el conjunto de números resultantes.\n",
        "\n",
        " En otros casos el orden en que aparecen los números es relevante, por ejemplo en el caso de los dígitos de un número telefónico. Si digitas un número telefónico en el orden incorrecto, entonces te comunicarás con otra persona. Mi número telefónico comienza con los dígitos 769, si yo invierto el orden de dos de esos dígitos, por ejemplo 679, entonces estaría llamando a otra personaMi número telefónico comienza con los dígitos 769.\n",
        " \n",
        "2. Si el número de elementos disponibles en el conjunto(n) es igual o menor de los presentes en cada suceso (r).\n",
        "\n",
        "Considera que quieres llevar colación para el trabajo y tienes tres tipos de frutas: manzana, naranja y banana. Puedes escoger una de ellas, dos cualquiera, o las tres. En este caso el número de elementos que acarreas es variable. Matemáticamente es complejo hablar en términos de frutas, y en el mundo de la teoría de conjuntos se nos va a hacer más simple hablar en términos de números. Matemáticamente esto se conoce como un mapeo, lo que quiere decir es que vamos a asignar una fruta a un número y viceversa.\n",
        "\n",
        "Podríamos asignar un número a cada fruta y así llevar el problema a un problema de combinatoria. El mapeo {\"Naranja\",\"Banana\",\"Manzana\"} -> {1,2,3} Hace explícito cuál es elementos estamos mapeando a qué números. Se puede representar {1,3}, por ejemplo para referirnos  que llevamos una naranja y una manzana al trabajo.  \n",
        "\n",
        "Después de este concepto de mapeo, solamente estamos limitados por nuestra imaginación para definir mapas que nos vinculen objetos, como por ejemplo elementos de supermercado, o medicamentos en la farmacia. Ahora solamente tenemos que utilizar una técnica que es la de las combinaciones de números.\n",
        "\n",
        "Por otro lado el número de elementos podrían ser fijo, por ejemplo en una patente de automóvil en Chile requiere seis elementos, los primeros cuatro corresponden a caracteres alfanuméricos y los dos últimos son dígitos. No hay patentes en Chile con menos de seis elementos.\n",
        "\n",
        "3. Si se producen o no repeticiones en el suceso.\n",
        "\n",
        "Las patentes por ejemplo pueden tener dígitos o letras repetidas. \n",
        "\n",
        "Si visito un conjunto de ciudades y solo se tiene permitido visitarlas una única vez, entonces la representación sólo incluirá información sin repetir. El problema del vendedor viajero es muy particular, ya que sólo permite visitar una ciudad una única vez, de tal manera que una representación combinatoria al no permitiría repeticiones.\n",
        "\n",
        "#tipos de problemas combinatoriales\n",
        "\n",
        "En general los problemas de combinatoria se pueden producir de la siguiente manera:\n",
        "\n",
        "* (C) Combinaciones sin repetición.\n",
        "* (V) Variaciones sin repetición.\n",
        "* (P) Permutaciones sin repetición.\n",
        "* (CR) Combinaciones con repetición.\n",
        "* (VR) Variaciones con repetición.\n",
        "* (PR) Permutaciones con repetición.\n",
        "\n",
        "Éstos últimos tipos pueden sonar crípticos, pero en esencia son simplemente una combinación de las propiedades descritas en los párrafos anteriores."
      ],
      "metadata": {
        "id": "viO5bQmm28pT"
      }
    },
    {
      "cell_type": "markdown",
      "source": [
        "El siguiente código simplemente muestra los elementos contenidos en una lista"
      ],
      "metadata": {
        "id": "vs_dmVIc_xJ5"
      }
    },
    {
      "cell_type": "code",
      "source": [
        "stuff = [1, 2, 3]\n",
        "for L in range(0, len(stuff)+1):\n",
        "  print(L)"
      ],
      "metadata": {
        "colab": {
          "base_uri": "https://localhost:8080/"
        },
        "id": "PYqXla4Z2A6n",
        "outputId": "bf773a18-88b5-49a0-b267-29df2e35bd23"
      },
      "execution_count": 1,
      "outputs": [
        {
          "output_type": "stream",
          "name": "stdout",
          "text": [
            "0\n",
            "1\n",
            "2\n",
            "3\n"
          ]
        }
      ]
    },
    {
      "cell_type": "markdown",
      "source": [
        "El paquete `intertools` permite recorrer todas las combinaciones posibles de un largo L determinado.\n",
        "\n",
        "En el ejemplo se muestra todas las cosas de largo dos."
      ],
      "metadata": {
        "id": "XeqKoMZH_6aQ"
      }
    },
    {
      "cell_type": "code",
      "source": [
        "import itertools\n",
        "\n",
        "stuff = [1, 2, 3, 4]\n",
        "L=2  #### queremos seleccionar grupos de dos elementos\n",
        "for subset in itertools.combinations(stuff, L): \n",
        "  print(subset)"
      ],
      "metadata": {
        "colab": {
          "base_uri": "https://localhost:8080/"
        },
        "id": "yuXa0A7d2MVL",
        "outputId": "0109b1b3-fe4a-4cb6-a194-fd4e884e4987"
      },
      "execution_count": 8,
      "outputs": [
        {
          "output_type": "stream",
          "name": "stdout",
          "text": [
            "(1, 2)\n",
            "(1, 3)\n",
            "(1, 4)\n",
            "(2, 3)\n",
            "(2, 4)\n",
            "(3, 4)\n"
          ]
        }
      ]
    },
    {
      "cell_type": "markdown",
      "source": [
        "se importa una biblioteca, luego se entrega una lista de valores y se especifica el numero de elementos que se quieren considerar al agrupar de esa lista. luego se listan los sub-grupos.\n",
        "\n",
        "En primer lugar se importa una biblioteca específica para llamar a las número de combinaciones. Luego se define una variable que tiene una serie de elementos que corresponde el conjunto de valores que vamos a utilizar. La variable L tiene que ver con el tamaño de los subconjuntos que vamos a generar. Finalmente el ciclo principal devuelve todas las combinaciones posibles de largo L del conjunto está definido inicialmenteFinalmente el ciclo principal devuelve todas las combinaciones posibles de largo L del conjunto `stuff` está definido inicialmente. "
      ],
      "metadata": {
        "id": "NDJLHpauSXzi"
      }
    },
    {
      "cell_type": "markdown",
      "source": [
        ""
      ],
      "metadata": {
        "id": "7P1NdckUSXw_"
      }
    },
    {
      "cell_type": "code",
      "source": [
        ""
      ],
      "metadata": {
        "id": "YVJTy8qUAbt8"
      },
      "execution_count": null,
      "outputs": []
    },
    {
      "cell_type": "markdown",
      "source": [
        "Utilizando el paquete `itertools` también es posible obtener todas las combinaciones posibles de largo variado y sin repetición.\n",
        "\n",
        "El siguiente ejemplo hace variar el valor del considerando cero hasta el número total de elementos del conjunto Stuff. \n",
        "\n",
        "De tal manera que `combinations` entregará todas las combinaciones posibles pero considerando todos los largos de subconjuntos."
      ],
      "metadata": {
        "id": "PUAANhF_AOZk"
      }
    },
    {
      "cell_type": "code",
      "execution_count": null,
      "metadata": {
        "colab": {
          "base_uri": "https://localhost:8080/"
        },
        "id": "9kUi4mda1V4B",
        "outputId": "07747454-efec-4b65-e787-da09d1803f2e"
      },
      "outputs": [
        {
          "output_type": "stream",
          "name": "stdout",
          "text": [
            "() \n",
            "\n",
            "(1,) \n",
            "\n",
            "(2,) \n",
            "\n",
            "(3,) \n",
            "\n",
            "(1, 2) \n",
            "\n",
            "(1, 3) \n",
            "\n",
            "(2, 3) \n",
            "\n",
            "(1, 2, 3) \n",
            "\n"
          ]
        }
      ],
      "source": [
        "import itertools\n",
        "\n",
        "stuff = [1, 2, 3]\n",
        "for L in range(0, len(stuff)+1):  ### aqui esta la diferencia con el codigo anterior\n",
        "    for subset in itertools.combinations(stuff, L):\n",
        "        print(subset)"
      ]
    },
    {
      "cell_type": "markdown",
      "source": [
        "#Problema de la mochila\n",
        "\n",
        "En el problema de la mochila se desea incluir objetos en una mochila. Cada objeto tiene asociado un peso. La idea es cargar la mochila con varios elementos de tal manera de tener un peso que no supere un tope máximo preestablecido.\n",
        "\n",
        "Existen diversas variantes del problema. En la versión más clásica sólo existe un objeto de cada tipo.\n",
        "\n",
        "Este problema corresponde a un problema combinatorial. Si se tienen pocos elementos se puede resolver con fuerza bruta.\n",
        "\n",
        "\n",
        "EJEMPLO:\n",
        "\n",
        "* carpa = 700 grs importancia= 50\n",
        "* saco = 500 grs importancia = 100 \n",
        "* botella = 100 grs  importancia = 100\n",
        "* comida= 2000 grs  importancia = 100\n",
        "* toalla = 20 grs importancia =  20\n",
        "* bastones = 400 grs importancia = 30\n",
        "* cuchillo = 30 grs importancia = 60\n",
        "* pantalon = 200 grs importancia = 20\n",
        "* polera = 50 grs importancia = 30\n",
        "* calzoncillos = 10 grs  importancia = 10\n",
        "\n",
        "\n",
        "\n",
        "\n",
        "\n",
        "tamaño de la mochila = 3.5 kg\n",
        "\n",
        "Construya un algoritmo que analice todas las posibilidades y encuentre la mochila armada que maximice el pesoConstruya un algoritmo que analice todas las posibilidades y encuentre la mochila armada que maximice la importancia.\n",
        "\n",
        "Además investigue sobre el problema de la mochila y haga un pequeño resumen.\n",
        "\n",
        "La entrega es un notebook en Google colab."
      ],
      "metadata": {
        "id": "BV_oSPnEAkzk"
      }
    }
  ]
}
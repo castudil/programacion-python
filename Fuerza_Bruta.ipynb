{
  "nbformat": 4,
  "nbformat_minor": 0,
  "metadata": {
    "colab": {
      "name": "Fuerza Bruta.ipynb",
      "provenance": [],
      "authorship_tag": "ABX9TyNI9tFPGzuc9t/7e+jh6bf9",
      "include_colab_link": true
    },
    "kernelspec": {
      "name": "python3",
      "display_name": "Python 3"
    },
    "language_info": {
      "name": "python"
    }
  },
  "cells": [
    {
      "cell_type": "markdown",
      "metadata": {
        "id": "view-in-github",
        "colab_type": "text"
      },
      "source": [
        "<a href=\"https://colab.research.google.com/github/castudil/programacion-python/blob/main/Fuerza_Bruta.ipynb\" target=\"_parent\"><img src=\"https://colab.research.google.com/assets/colab-badge.svg\" alt=\"Open In Colab\"/></a>"
      ]
    },
    {
      "cell_type": "markdown",
      "source": [
        "#FUERZA BRUTA\n",
        "\n",
        "La técnica de fuerza bruta analiza todas las combinaciones posibles para un problema y se queda con la mejor opción.\n",
        "\n",
        "Es una alternativa razonable cuando lo que se busca es obtener la mejor opción de todas.\n",
        "\n",
        "Desafortunadamente el costo computacional de este método se vuelve intratable para problemas relativamente pequeños.\n",
        "\n",
        "Existe una rama de las matemáticas llamada combinatoria, que se dedica al estudio de grupos de datos finitos y cómo combinarlos, de acuerdo a una serie de restricciones preestablecidas.\n",
        "\n",
        "Para saber qué caso de combinatoria estamos tratando hay que determinar tres características:\n",
        "\n",
        "1. Si influye o no el orden de los elementos.\n",
        "\n",
        " En algunos casos el orden en el que aparecen los elementos es irrelevante, por ejemplo el orden en que aparecieron los números de la lotería. En este caso no importa cuál fue el orden en que aparecen los números si no el conjunto de números resultantes.\n",
        "\n",
        " En otros casos el orden en que aparecen los números es relevante, por ejemplo en el caso de los dígitos de un número telefónico. Si digitas un número telefónico en el orden incorrecto, entonces te comunicarás con otra persona.\n",
        " \n",
        "2. Si el número de elementos disponibles en el conjunto(n) es igual o menor de los presentes en cada suceso (r).\n",
        "\n",
        "Considera que quieres llevar llevar colación para el trabajo y tienes tres tipos de frutas: manzana, naranja y banana. Puedes escoger una de ellas, dos cualquiera, o las tres. En este caso el número de elementos que acarreas es variable. Podríamos asignar un número a cada fruta y así llevar el problema a un problema de combinatoriaPodríamos asignar un número a cada fruta y así llevar el problema a un problema de combinatoria. El conjunto {1,2,3} puede representar a las frutas y {1,3}, representa por ejemplo el hecho de que lleves una manzana y una banana al trabajorepresenta por ejemplo el hecho de que lleves una manzana y una banana al trabajo.  \n",
        "\n",
        "Por otro lado el número de elementos podría ser fijo, por ejemplo en una patente de automóvil en Chile contiene requiere seis elementos, los primeros cuatro corresponden a caracteres alfanuméricos y los dos últimos son dígitos.\n",
        "\n",
        "3. Si se producen o no repeticiones en el suceso.\n",
        "\n",
        "Las patentes por ejemplo pueden tener dígitos o letras repetidas. \n",
        "\n",
        "Si visito un conjunto de ciudades y solo se tiene permitido visitarlas una única vez, entonces la representación sólo incluirá información sin repetir.\n",
        "\n",
        "#tipos de problemas combinatoriales\n",
        "\n",
        "En general los problemas de combinatoria se pueden producir de la siguiente manera:\n",
        "\n",
        "* (C) Combinaciones sin repetición.\n",
        "* (V) Variaciones sin repetición.\n",
        "* (P) Permutaciones sin repetición.\n",
        "* (CR) Combinaciones con repetición.\n",
        "* (VR) Variaciones con repetición.\n",
        "* (PR) Permutaciones con repetición."
      ],
      "metadata": {
        "id": "viO5bQmm28pT"
      }
    },
    {
      "cell_type": "markdown",
      "source": [
        "El siguiente código simplemente muestra los elementos contenidos en una lista"
      ],
      "metadata": {
        "id": "vs_dmVIc_xJ5"
      }
    },
    {
      "cell_type": "code",
      "source": [
        "stuff = [1, 2, 3]\n",
        "for L in range(0, len(stuff)+1):\n",
        "  print(L)"
      ],
      "metadata": {
        "colab": {
          "base_uri": "https://localhost:8080/"
        },
        "id": "PYqXla4Z2A6n",
        "outputId": "68e6e78e-d0ee-4905-f28a-ba91eb694eed"
      },
      "execution_count": 3,
      "outputs": [
        {
          "output_type": "stream",
          "name": "stdout",
          "text": [
            "0\n",
            "1\n",
            "2\n",
            "3\n"
          ]
        }
      ]
    },
    {
      "cell_type": "markdown",
      "source": [
        "El paquete `intertools` permite recorrer todas las combinaciones posibles de un largo L determinado.\n",
        "\n",
        "En el ejemplo se muestra todas las cosas de largo dos."
      ],
      "metadata": {
        "id": "XeqKoMZH_6aQ"
      }
    },
    {
      "cell_type": "code",
      "source": [
        "import itertools\n",
        "\n",
        "stuff = [1, 2, 3]\n",
        "L=2.  #### queremos sacar\n",
        "for subset in itertools.combinations(stuff, L): \n",
        "  print(subset)"
      ],
      "metadata": {
        "colab": {
          "base_uri": "https://localhost:8080/"
        },
        "id": "yuXa0A7d2MVL",
        "outputId": "1cad7631-b555-4b94-a5cf-c9b62d094eb8"
      },
      "execution_count": 5,
      "outputs": [
        {
          "output_type": "stream",
          "name": "stdout",
          "text": [
            "(1, 2)\n",
            "(1, 3)\n",
            "(2, 3)\n"
          ]
        }
      ]
    },
    {
      "cell_type": "code",
      "source": [
        ""
      ],
      "metadata": {
        "id": "YVJTy8qUAbt8"
      },
      "execution_count": null,
      "outputs": []
    },
    {
      "cell_type": "markdown",
      "source": [
        "Utilizando el paquete `itertools` también es posible obtener todas las combinaciones posibles de largo variado y sin repetición"
      ],
      "metadata": {
        "id": "PUAANhF_AOZk"
      }
    },
    {
      "cell_type": "code",
      "execution_count": 2,
      "metadata": {
        "colab": {
          "base_uri": "https://localhost:8080/"
        },
        "id": "9kUi4mda1V4B",
        "outputId": "07747454-efec-4b65-e787-da09d1803f2e"
      },
      "outputs": [
        {
          "output_type": "stream",
          "name": "stdout",
          "text": [
            "() \n",
            "\n",
            "(1,) \n",
            "\n",
            "(2,) \n",
            "\n",
            "(3,) \n",
            "\n",
            "(1, 2) \n",
            "\n",
            "(1, 3) \n",
            "\n",
            "(2, 3) \n",
            "\n",
            "(1, 2, 3) \n",
            "\n"
          ]
        }
      ],
      "source": [
        "import itertools\n",
        "\n",
        "stuff = [1, 2, 3]\n",
        "for L in range(0, len(stuff)+1):\n",
        "    for subset in itertools.combinations(stuff, L):\n",
        "        print(subset)"
      ]
    },
    {
      "cell_type": "markdown",
      "source": [
        "#Problema de la mochila\n",
        "\n",
        "En el problema de la mochila se desea cinluir objetos en una mochila. Cada objeto tiene asociado un peso. La idea es cargar la mochila con varios elementos de tal manera de tener un peso que no supere un tope máximo preestablecido.\n",
        "\n",
        "Existen diversas variantes del problema. En la versión más clásica sólo existe un objeto de cada tipo.\n",
        "\n",
        "Este problema corresponde a un problema combinatorial. Si se tienen pocos elementos se puede resolver con fuerza bruta."
      ],
      "metadata": {
        "id": "BV_oSPnEAkzk"
      }
    }
  ]
}